{
 "cells": [
  {
   "cell_type": "code",
   "execution_count": 6,
   "id": "28721590-2380-43ce-8144-a4dd4801706c",
   "metadata": {},
   "outputs": [
    {
     "name": "stdout",
     "output_type": "stream",
     "text": [
      "(73637, 9)\n",
      "Interesting wines: (10116, 14)\n"
     ]
    },
    {
     "ename": "NameError",
     "evalue": "name 'plt' is not defined",
     "output_type": "error",
     "traceback": [
      "\u001b[0;31m---------------------------------------------------------------------------\u001b[0m",
      "\u001b[0;31mNameError\u001b[0m                                 Traceback (most recent call last)",
      "Cell \u001b[0;32mIn[6], line 38\u001b[0m\n\u001b[1;32m     35\u001b[0m \u001b[38;5;28mprint\u001b[39m(\u001b[38;5;124mf\u001b[39m\u001b[38;5;124m\"\u001b[39m\u001b[38;5;124mInteresting wines: \u001b[39m\u001b[38;5;132;01m{\u001b[39;00minteresting_wines\u001b[38;5;241m.\u001b[39mshape\u001b[38;5;132;01m}\u001b[39;00m\u001b[38;5;124m\"\u001b[39m)\n\u001b[1;32m     37\u001b[0m \u001b[38;5;66;03m# Visualization by price category (distribution of ratings and price for interesting wines)\u001b[39;00m\n\u001b[0;32m---> 38\u001b[0m \u001b[43mplt\u001b[49m\u001b[38;5;241m.\u001b[39mfigure(figsize\u001b[38;5;241m=\u001b[39m(\u001b[38;5;241m12\u001b[39m, \u001b[38;5;241m6\u001b[39m))\n\u001b[1;32m     40\u001b[0m \u001b[38;5;66;03m# Boxplot showing the spread of points by price category for interesting wines\u001b[39;00m\n\u001b[1;32m     41\u001b[0m sns\u001b[38;5;241m.\u001b[39mboxplot(x\u001b[38;5;241m=\u001b[39m\u001b[38;5;124m'\u001b[39m\u001b[38;5;124mprice_category\u001b[39m\u001b[38;5;124m'\u001b[39m, y\u001b[38;5;241m=\u001b[39m\u001b[38;5;124m'\u001b[39m\u001b[38;5;124mpoints\u001b[39m\u001b[38;5;124m'\u001b[39m, data\u001b[38;5;241m=\u001b[39minteresting_wines)\n",
      "\u001b[0;31mNameError\u001b[0m: name 'plt' is not defined"
     ]
    }
   ],
   "source": [
    "import pandas as pd\n",
    "from sklearn.linear_model import LinearRegression\n",
    "from sklearn.ensemble import IsolationForest\n",
    "import matplotlib.pyplot as plt\n",
    "import seaborn as sns\n",
    "\n",
    "# Load the dataset\n",
    "file_path = '/Users/annelise/Documents/GitHub/Wine_tasting_KG/data_kaggle/'\n",
    "wine_data = pd.read_csv(file_path + 'cleaned_wine_data_price_max=50.csv')\n",
    "print(wine_data.shape)\n",
    "\n",
    "# Segment the data into $10 price categories\n",
    "wine_data['price_category'] = pd.cut(wine_data['price'], bins=[0, 10, 20, 30, 40, 50], labels=['0-10', '10-20', '20-30', '30-40', '40-50'])\n",
    "\n",
    "# Calculate Z-score for ratings within each price category\n",
    "wine_data['rating_zscore'] = wine_data.groupby('price_category')['points'].transform(lambda x: (x - x.mean()) / x.std())\n",
    "\n",
    "# Fit a linear regression model (price vs rating)\n",
    "X = wine_data[['price']]\n",
    "y = wine_data['points']\n",
    "\n",
    "model = LinearRegression()\n",
    "model.fit(X, y)\n",
    "\n",
    "# Calculate residuals (difference between predicted rating and actual rating)\n",
    "wine_data['predicted_points'] = model.predict(X)\n",
    "wine_data['residuals'] = wine_data['points'] - wine_data['predicted_points']\n",
    "\n",
    "# Apply Isolation Forest for anomaly detection\n",
    "isolation_forest = IsolationForest(contamination=0.05, random_state=42)\n",
    "wine_data['anomaly'] = isolation_forest.fit_predict(wine_data[['price', 'points']])\n",
    "\n",
    "# Refine the criteria: Z-score > 1 and residuals > 1 (strict filtering)\n",
    "interesting_wines = wine_data[(wine_data['rating_zscore'] > 1) & (wine_data['residuals'] > 1) & (wine_data['anomaly'] == 1)]\n",
    "\n",
    "# Display the refined interesting wines\n",
    "print(f\"Interesting wines: {interesting_wines.shape}\")\n",
    "\n",
    "# Visualization by price category (distribution of ratings and price for interesting wines)\n",
    "plt.figure(figsize=(12, 6))\n",
    "\n",
    "# Boxplot showing the spread of points by price category for interesting wines\n",
    "sns.boxplot(x='price_category', y='points', data=interesting_wines)\n",
    "plt.title('Distribution of Wine Ratings by Price Category (Interesting Wines)')\n",
    "plt.ylabel('Wine Rating')\n",
    "plt.xlabel('Price Category')\n",
    "plt.xticks(rotation=45)\n",
    "plt.show()\n",
    "\n",
    "# Visualization of residuals vs price (price/quality overperformance)\n",
    "plt.figure(figsize=(12, 6))\n",
    "sns.scatterplot(x='price', y='residuals', hue='price_category', data=interesting_wines, palette='tab10')\n",
    "plt.title('Residuals (Overperformance) vs Price by Price Category')\n",
    "plt.ylabel('Residuals (Rating - Predicted)')\n",
    "plt.xlabel('Price ($)')\n",
    "plt.show()\n",
    "\n",
    "# Optionally, save the filtered data\n",
    "interesting_wines.to_csv(file_path, 'interesting_wines.csv', index=False)\n"
   ]
  }
 ],
 "metadata": {
  "kernelspec": {
   "display_name": "Python 3 (ipykernel)",
   "language": "python",
   "name": "python3"
  },
  "language_info": {
   "codemirror_mode": {
    "name": "ipython",
    "version": 3
   },
   "file_extension": ".py",
   "mimetype": "text/x-python",
   "name": "python",
   "nbconvert_exporter": "python",
   "pygments_lexer": "ipython3",
   "version": "3.8.19"
  }
 },
 "nbformat": 4,
 "nbformat_minor": 5
}
